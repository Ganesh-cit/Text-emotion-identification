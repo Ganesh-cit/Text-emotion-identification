{
 "cells": [
  {
   "cell_type": "code",
   "execution_count": 1,
   "id": "e5bf07d1",
   "metadata": {},
   "outputs": [
    {
     "name": "stdout",
     "output_type": "stream",
     "text": [
      "Requirement already satisfied: keras in c:\\users\\ganesh\\anaconda3\\lib\\site-packages (3.6.0)\n",
      "Requirement already satisfied: numpy in c:\\users\\ganesh\\anaconda3\\lib\\site-packages (from keras) (1.26.4)\n",
      "Requirement already satisfied: packaging in c:\\users\\ganesh\\anaconda3\\lib\\site-packages (from keras) (21.3)\n",
      "Requirement already satisfied: h5py in c:\\users\\ganesh\\anaconda3\\lib\\site-packages (from keras) (3.12.1)\n",
      "Requirement already satisfied: absl-py in c:\\users\\ganesh\\anaconda3\\lib\\site-packages (from keras) (2.1.0)\n",
      "Requirement already satisfied: rich in c:\\users\\ganesh\\anaconda3\\lib\\site-packages (from keras) (13.9.4)\n",
      "Requirement already satisfied: namex in c:\\users\\ganesh\\anaconda3\\lib\\site-packages (from keras) (0.0.8)\n",
      "Requirement already satisfied: ml-dtypes in c:\\users\\ganesh\\anaconda3\\lib\\site-packages (from keras) (0.4.1)\n",
      "Requirement already satisfied: optree in c:\\users\\ganesh\\anaconda3\\lib\\site-packages (from keras) (0.13.0)\n",
      "Requirement already satisfied: typing-extensions>=4.5.0 in c:\\users\\ganesh\\anaconda3\\lib\\site-packages (from optree->keras) (4.12.2)\n",
      "Requirement already satisfied: pyparsing!=3.0.5,>=2.0.2 in c:\\users\\ganesh\\anaconda3\\lib\\site-packages (from packaging->keras) (3.0.9)\n",
      "Requirement already satisfied: markdown-it-py>=2.2.0 in c:\\users\\ganesh\\anaconda3\\lib\\site-packages (from rich->keras) (3.0.0)\n",
      "Requirement already satisfied: pygments<3.0.0,>=2.13.0 in c:\\users\\ganesh\\anaconda3\\lib\\site-packages (from rich->keras) (2.18.0)\n",
      "Requirement already satisfied: mdurl~=0.1 in c:\\users\\ganesh\\anaconda3\\lib\\site-packages (from markdown-it-py>=2.2.0->rich->keras) (0.1.2)\n",
      "Note: you may need to restart the kernel to use updated packages.\n"
     ]
    }
   ],
   "source": [
    "pip install keras\n"
   ]
  },
  {
   "cell_type": "code",
   "execution_count": 1,
   "id": "7de02790",
   "metadata": {},
   "outputs": [],
   "source": [
    "import pandas as pd\n",
    "import numpy as np\n",
    "import keras\n",
    "import tensorflow\n",
    "from tensorflow.keras.preprocessing.text import Tokenizer\n",
    "from tensorflow.keras.preprocessing.sequence import pad_sequences\n",
    "from sklearn.preprocessing import LabelEncoder\n",
    "from sklearn.model_selection import train_test_split\n",
    "from keras.models import Sequential\n",
    "from keras.layers import Embedding, Flatten, Dense\n",
    "\n",
    "\n"
   ]
  },
  {
   "cell_type": "code",
   "execution_count": 2,
   "id": "93e212e9",
   "metadata": {},
   "outputs": [
    {
     "data": {
      "text/html": [
       "<div>\n",
       "<style scoped>\n",
       "    .dataframe tbody tr th:only-of-type {\n",
       "        vertical-align: middle;\n",
       "    }\n",
       "\n",
       "    .dataframe tbody tr th {\n",
       "        vertical-align: top;\n",
       "    }\n",
       "\n",
       "    .dataframe thead th {\n",
       "        text-align: right;\n",
       "    }\n",
       "</style>\n",
       "<table border=\"1\" class=\"dataframe\">\n",
       "  <thead>\n",
       "    <tr style=\"text-align: right;\">\n",
       "      <th></th>\n",
       "      <th>Text</th>\n",
       "      <th>Emotions</th>\n",
       "    </tr>\n",
       "  </thead>\n",
       "  <tbody>\n",
       "    <tr>\n",
       "      <th>0</th>\n",
       "      <td>i can go from feeling so hopeless to so damned...</td>\n",
       "      <td>sadness</td>\n",
       "    </tr>\n",
       "    <tr>\n",
       "      <th>1</th>\n",
       "      <td>im grabbing a minute to post i feel greedy wrong</td>\n",
       "      <td>anger</td>\n",
       "    </tr>\n",
       "    <tr>\n",
       "      <th>2</th>\n",
       "      <td>i am ever feeling nostalgic about the fireplac...</td>\n",
       "      <td>love</td>\n",
       "    </tr>\n",
       "    <tr>\n",
       "      <th>3</th>\n",
       "      <td>i am feeling grouchy</td>\n",
       "      <td>anger</td>\n",
       "    </tr>\n",
       "    <tr>\n",
       "      <th>4</th>\n",
       "      <td>ive been feeling a little burdened lately wasn...</td>\n",
       "      <td>sadness</td>\n",
       "    </tr>\n",
       "    <tr>\n",
       "      <th>5</th>\n",
       "      <td>ive been taking or milligrams or times recomme...</td>\n",
       "      <td>surprise</td>\n",
       "    </tr>\n",
       "    <tr>\n",
       "      <th>6</th>\n",
       "      <td>i feel as confused about life as a teenager or...</td>\n",
       "      <td>fear</td>\n",
       "    </tr>\n",
       "    <tr>\n",
       "      <th>7</th>\n",
       "      <td>i have been with petronas for years i feel tha...</td>\n",
       "      <td>joy</td>\n",
       "    </tr>\n",
       "    <tr>\n",
       "      <th>8</th>\n",
       "      <td>i feel romantic too</td>\n",
       "      <td>love</td>\n",
       "    </tr>\n",
       "    <tr>\n",
       "      <th>9</th>\n",
       "      <td>i feel like i have to make the suffering i m s...</td>\n",
       "      <td>sadness</td>\n",
       "    </tr>\n",
       "  </tbody>\n",
       "</table>\n",
       "</div>"
      ],
      "text/plain": [
       "                                                Text  Emotions\n",
       "0  i can go from feeling so hopeless to so damned...   sadness\n",
       "1   im grabbing a minute to post i feel greedy wrong     anger\n",
       "2  i am ever feeling nostalgic about the fireplac...      love\n",
       "3                               i am feeling grouchy     anger\n",
       "4  ive been feeling a little burdened lately wasn...   sadness\n",
       "5  ive been taking or milligrams or times recomme...  surprise\n",
       "6  i feel as confused about life as a teenager or...      fear\n",
       "7  i have been with petronas for years i feel tha...       joy\n",
       "8                                i feel romantic too      love\n",
       "9  i feel like i have to make the suffering i m s...   sadness"
      ]
     },
     "execution_count": 2,
     "metadata": {},
     "output_type": "execute_result"
    }
   ],
   "source": [
    "data = pd.read_csv(\"train.txt\", sep=';')\n",
    "data.columns = [\"Text\", \"Emotions\"]\n",
    "data.head(10)"
   ]
  },
  {
   "cell_type": "code",
   "execution_count": 3,
   "id": "fe599487",
   "metadata": {},
   "outputs": [],
   "source": [
    "from tensorflow.keras.models import load_model\n",
    "from tensorflow.keras.models import model_from_json\n"
   ]
  },
  {
   "cell_type": "markdown",
   "id": "9a3b356a",
   "metadata": {},
   "source": [
    "As this is a problem of natural language processing, I’ll start by tokenizing the data:"
   ]
  },
  {
   "cell_type": "code",
   "execution_count": 4,
   "id": "e66b1bf6",
   "metadata": {},
   "outputs": [],
   "source": [
    "texts = data[\"Text\"].tolist()\n",
    "labels = data[\"Emotions\"].tolist()\n",
    "\n",
    "# Tokenize the text data\n",
    "tokenizer = Tokenizer()\n",
    "tokenizer.fit_on_texts(texts)"
   ]
  },
  {
   "cell_type": "markdown",
   "id": "8d5fd6b9",
   "metadata": {},
   "source": [
    "Now we need to pad the sequences to the same length to feed them into a neural network. Here’s how we can pad the sequences of the texts to have the same length:"
   ]
  },
  {
   "cell_type": "code",
   "execution_count": 5,
   "id": "3115b2c8",
   "metadata": {},
   "outputs": [],
   "source": [
    "sequences = tokenizer.texts_to_sequences(texts)\n",
    "max_length = max([len(seq) for seq in sequences])\n",
    "padded_sequences = pad_sequences(sequences, maxlen=max_length)"
   ]
  },
  {
   "cell_type": "markdown",
   "id": "c82e5c25",
   "metadata": {},
   "source": [
    "Now I’ll use the label encoder method to convert the classes from strings to a numerical representation:"
   ]
  },
  {
   "cell_type": "code",
   "execution_count": 6,
   "id": "ce0f4edc",
   "metadata": {},
   "outputs": [],
   "source": [
    "# Encode the string labels to integers\n",
    "label_encoder = LabelEncoder()\n",
    "labels = label_encoder.fit_transform(labels)"
   ]
  },
  {
   "cell_type": "markdown",
   "id": "da53ced2",
   "metadata": {},
   "source": [
    "We are now going to One-hot encode the labels. One hot encoding refers to the transformation of categorical labels into a binary representation where each label is represented as a vector of all zeros except a single 1. This is necessary because machine learning algorithms work with numerical data. So here is how we can One-hot encode the labels:"
   ]
  },
  {
   "cell_type": "code",
   "execution_count": 7,
   "id": "6eb2214f",
   "metadata": {},
   "outputs": [],
   "source": [
    "# One-hot encode the labels\n",
    "one_hot_labels = keras.utils.to_categorical(labels)"
   ]
  },
  {
   "cell_type": "markdown",
   "id": "5858ee84",
   "metadata": {},
   "source": [
    "## Text Emotions Classification Model\n",
    "Now we will split the data into training and test sets:"
   ]
  },
  {
   "cell_type": "code",
   "execution_count": 8,
   "id": "388b81c7",
   "metadata": {},
   "outputs": [],
   "source": [
    "# Split the data into training and testing sets\n",
    "xtrain, xtest, ytrain, ytest = train_test_split(padded_sequences, \n",
    "                                                one_hot_labels, \n",
    "                                                test_size=0.2)"
   ]
  },
  {
   "cell_type": "markdown",
   "id": "41fbcb5b",
   "metadata": {},
   "source": [
    "Now let’s define a neural network architecture for our classification problem and use it to train a model to classify emotions:"
   ]
  },
  {
   "cell_type": "code",
   "execution_count": 9,
   "id": "c0e4796f",
   "metadata": {
    "scrolled": false
   },
   "outputs": [],
   "source": [
    "# Define the model\n",
    "# model = Sequential()\n",
    "# model.add(Embedding(input_dim=len(tokenizer.word_index) + 1, \n",
    "#                     output_dim=128, input_length=max_length))\n",
    "# model.add(Flatten())\n",
    "# model.add(Dense(units=128, activation=\"relu\"))\n",
    "# model.add(Dense(units=len(one_hot_labels[0]), activation=\"softmax\"))\n",
    "\n",
    "# model.compile(optimizer=\"adam\", loss=\"categorical_crossentropy\", metrics=[\"accuracy\"])\n",
    "# model.fit(xtrain, ytrain, epochs=15, batch_size=32, validation_data=(xtest, ytest))"
   ]
  },
  {
   "cell_type": "code",
   "execution_count": 10,
   "id": "2daa31ed",
   "metadata": {},
   "outputs": [],
   "source": [
    "# model_architecture = model.to_json()\n",
    "# with open(\"model_architecture.json\", \"w\") as json_file:\n",
    "#     json_file.write(model_architecture)\n",
    "\n",
    "# model.save_weights(\"model_weights.h5\")"
   ]
  },
  {
   "cell_type": "code",
   "execution_count": 11,
   "id": "505baaa8",
   "metadata": {},
   "outputs": [],
   "source": [
    "\n",
    "\n",
    "# Load the model architecture from JSON file\n",
    "with open('model_architecture.json', 'r') as json_file:\n",
    "    json_model = json_file.read()\n",
    "\n",
    "# Recreate the model architecture\n",
    "model = model_from_json(json_model)\n",
    "\n",
    "# Optionally, load weights if you have them saved in a .h5 file\n",
    "model.load_weights('model_weights.h5')"
   ]
  },
  {
   "cell_type": "markdown",
   "id": "a1c228c9",
   "metadata": {},
   "source": [
    "Now let’s take a sentence as an input text and see how the model performs:"
   ]
  },
  {
   "cell_type": "code",
   "execution_count": 10,
   "id": "42a247c6",
   "metadata": {},
   "outputs": [
    {
     "name": "stdout",
     "output_type": "stream",
     "text": [
      "\u001b[1m1/1\u001b[0m \u001b[32m━━━━━━━━━━━━━━━━━━━━\u001b[0m\u001b[37m\u001b[0m \u001b[1m0s\u001b[0m 421ms/step\n",
      "['joy']\n"
     ]
    }
   ],
   "source": [
    "\n",
    "\n",
    "input_text = \"Made a wonderful new friend\"\n",
    "\n",
    "# Preprocess the input text\n",
    "input_sequence = tokenizer.texts_to_sequences([input_text])\n",
    "padded_input_sequence = pad_sequences(input_sequence, maxlen=max_length)\n",
    "prediction = model.predict(padded_input_sequence)\n",
    "predicted_label = label_encoder.inverse_transform([np.argmax(prediction[0])])\n",
    "print(predicted_label)"
   ]
  },
  {
   "cell_type": "code",
   "execution_count": 40,
   "id": "2023bd59",
   "metadata": {},
   "outputs": [],
   "source": [
    "# model = load_model('model_weights.h5')"
   ]
  },
  {
   "cell_type": "code",
   "execution_count": 12,
   "id": "6fcbf7b8",
   "metadata": {},
   "outputs": [],
   "source": [
    "import tkinter as tk\n",
    "from PIL import Image, ImageTk\n",
    "\n",
    "root = tk.Tk()\n",
    "root.title(\"Welcome page\")\n",
    "\n",
    "width=root.winfo_screenwidth()\n",
    "height=root.winfo_screenheight()\n",
    "root.geometry(str(width)+\"x\"+str(height))\n",
    "\n",
    "canvas = tk.Canvas(root,width=width,height=height,highlightthickness=0)\n",
    "canvas.pack()\n",
    "\n",
    "bg_image = Image.open(\"img_1.png\")\n",
    "bg_resized=bg_image.resize((width,height))\n",
    "bg = ImageTk.PhotoImage(bg_resized)\n",
    "# trans_img2=Image.open(\"img.png\")\n",
    "# face_resized=trans_img2.resize((50,50))\n",
    "# trans_photo=ImageTk.PhotoImage(face_resized)\n",
    "\n",
    "\n",
    "canvas.create_image(0, 0, anchor=tk.NW, image=bg)\n",
    "\n",
    "submit_button = tk.Button(text=\"Find\", width=20, padx=10, pady=10)\n",
    "submit_button.place(x=680, y=400)\n",
    "canvas.create_text(width*0.5, height*0.5, text=\"WELCOME TO PROJECT CENTER\", font=(\"Helvetica\", 25),fill=\"white\")\n",
    "# canvas.create_image(width*0.5,height*0.1, image=trans_photo)\n",
    "\n",
    "root.mainloop()"
   ]
  },
  {
   "cell_type": "markdown",
   "id": "f58ff4e9",
   "metadata": {},
   "source": [
    "So this is how you can use Machine Learning for the task of text emotion classification using the Python programming language."
   ]
  },
  {
   "cell_type": "code",
   "execution_count": null,
   "id": "f1872c4f",
   "metadata": {},
   "outputs": [],
   "source": [
    "img=Image.open(\"img_1.png\")"
   ]
  },
  {
   "cell_type": "code",
   "execution_count": null,
   "id": "3f9cf6bb",
   "metadata": {},
   "outputs": [],
   "source": [
    "img2=ImageTk.PhotoImage(img)"
   ]
  },
  {
   "cell_type": "code",
   "execution_count": 1,
   "id": "4b2a2334",
   "metadata": {},
   "outputs": [],
   "source": [
    "import tkinter as tk"
   ]
  },
  {
   "cell_type": "code",
   "execution_count": 13,
   "id": "5a2ec5d8",
   "metadata": {},
   "outputs": [],
   "source": [
    "def submit_data():\n",
    "        label1.config(text=\"\",bg=\"#5DADE2\") \n",
    "        input_text = input_entry.get()\n",
    "        input_sequence = tokenizer.texts_to_sequences([input_text])\n",
    "        padded_input_sequence = pad_sequences(input_sequence, maxlen=max_length)\n",
    "        prediction = model.predict(padded_input_sequence)\n",
    "        predicted_label = label_encoder.inverse_transform([np.argmax(prediction[0])])\n",
    "#canvas.create_text(width*0.5, height*0.5, text=predicted_label[0], font=(\"Helvetica\", 20), fill=\"purple\")\n",
    "        label1.config(text=predicted_label[0], font=(\"Helvetica\", 24, \"italic\"), bg=\"#5DADE2\", fg=\"white\")\n",
    "        \n",
    "    \n",
    "        input_entry.delete(0, tk.END)\n",
    "        "
   ]
  },
  {
   "cell_type": "code",
   "execution_count": null,
   "id": "ff68859c",
   "metadata": {},
   "outputs": [
    {
     "name": "stdout",
     "output_type": "stream",
     "text": [
      "1536 864\n",
      "\u001b[1m1/1\u001b[0m \u001b[32m━━━━━━━━━━━━━━━━━━━━\u001b[0m\u001b[37m\u001b[0m \u001b[1m0s\u001b[0m 56ms/step\n",
      "\u001b[1m1/1\u001b[0m \u001b[32m━━━━━━━━━━━━━━━━━━━━\u001b[0m\u001b[37m\u001b[0m \u001b[1m0s\u001b[0m 32ms/step\n",
      "\u001b[1m1/1\u001b[0m \u001b[32m━━━━━━━━━━━━━━━━━━━━\u001b[0m\u001b[37m\u001b[0m \u001b[1m0s\u001b[0m 29ms/step\n",
      "\u001b[1m1/1\u001b[0m \u001b[32m━━━━━━━━━━━━━━━━━━━━\u001b[0m\u001b[37m\u001b[0m \u001b[1m0s\u001b[0m 16ms/step\n",
      "\u001b[1m1/1\u001b[0m \u001b[32m━━━━━━━━━━━━━━━━━━━━\u001b[0m\u001b[37m\u001b[0m \u001b[1m0s\u001b[0m 16ms/step\n",
      "\u001b[1m1/1\u001b[0m \u001b[32m━━━━━━━━━━━━━━━━━━━━\u001b[0m\u001b[37m\u001b[0m \u001b[1m0s\u001b[0m 16ms/step\n",
      "\u001b[1m1/1\u001b[0m \u001b[32m━━━━━━━━━━━━━━━━━━━━\u001b[0m\u001b[37m\u001b[0m \u001b[1m0s\u001b[0m 16ms/step\n"
     ]
    }
   ],
   "source": [
    "from tkinter import Tk, Canvas, Label, Entry, Button, NW, Frame\n",
    "from PIL import Image, ImageTk\n",
    "from tkinter.font import Font\n",
    "\n",
    "# Initialize the main window\n",
    "root = Tk()\n",
    "root.title(\"GK EI System\")\n",
    "width=root.winfo_screenwidth()\n",
    "height=root.winfo_screenheight()\n",
    "root.geometry(str(width)+\"x\"+str(height)) # Adjust size according to your image\n",
    "print(width,height)\n",
    "# Load the background image\n",
    "background_image = Image.open(\"image.png\")  # Replace with your image path\n",
    "bg_resized=background_image.resize((width,height))\n",
    "background_photo = ImageTk.PhotoImage(bg_resized)\n",
    "\n",
    "# Create a canvas to place the background image and widgets\n",
    "canvas = Canvas(root, width=width, height=height)\n",
    "canvas.pack(fill=\"both\", expand=True)\n",
    "\n",
    "# Display the background image\n",
    "canvas.create_image(0, 0, image=background_photo, anchor=NW)\n",
    "\n",
    "# Add labels and entry fields for Name and Password\n",
    "custom_font = Font(family=\"Verdana\", size=25, weight=\"bold\", underline=True)\n",
    "canvas.create_text(width*0.22, height*0.2, text=\"GK EMOTIONAL INTELLIGENCE\", font=custom_font, fill=\"white\")\n",
    "# canvas.create_text(width*0.2, height*0.3, text=\"TELL US H\", font=(\"Helvetica\", 25), fill=\"white\")\n",
    "\n",
    "canvas.create_text(width*0.1, height*0.4, text=\"TEXT\", font=(\"Helvetica\", 25), fill=\"white\")\n",
    "input_entry = Entry(root, font=(\"Helvetica\", 12), width=30,borderwidth=3)\n",
    "canvas.create_window(width*0.25, height*0.4, window=input_entry, height=30)\n",
    "\n",
    "frame = Frame(root, bg=\"#5DADE2\", height=height*0.2, width=width*0.2,bd=5,relief=\"groove\")\n",
    "frame.place(in_=root, relx=0.1,rely=0.6)\n",
    "label = Label(frame, text=\"DETECTED EMOTION\", font=(\"Helvetica\", 20, \"italic\"), fg=\"#5DADE2\", bg=\"white\",width=20,anchor=NW)\n",
    "label.place(in_=frame)\n",
    "label1=Label(frame,bg=\"#5DADE2\")\n",
    "label1.place(relx=0.35,rely=0.5)\n",
    "# label1.configure(bg=\"white\", fg=\"black\")\n",
    "# label2.configure(bg=\"#3f4c6b\", fg=\"#FFFFF0\")\n",
    "# label3.configure(bg=\"#3f4c6b\", fg=\"#FFFFF0\")\n",
    "\n",
    "\n",
    "# Add a Submit button\n",
    "submit_button = Button(root, text=\"SENSE !\", font=(\"Helvetica\", 12), bg=\"#5DADE2\", fg=\"white\", command=submit_data,bd=2)\n",
    "canvas.create_window(width*0.2, height*0.5, window=submit_button, width=100, height=30)\n",
    "\n",
    "# Start the Tkinter event loop\n",
    "root.mainloop()\n"
   ]
  },
  {
   "cell_type": "code",
   "execution_count": null,
   "id": "fe1cbfb4",
   "metadata": {},
   "outputs": [],
   "source": []
  },
  {
   "cell_type": "code",
   "execution_count": null,
   "id": "37ccae6e",
   "metadata": {},
   "outputs": [],
   "source": []
  }
 ],
 "metadata": {
  "kernelspec": {
   "display_name": "Python 3 (ipykernel)",
   "language": "python",
   "name": "python3"
  },
  "language_info": {
   "codemirror_mode": {
    "name": "ipython",
    "version": 3
   },
   "file_extension": ".py",
   "mimetype": "text/x-python",
   "name": "python",
   "nbconvert_exporter": "python",
   "pygments_lexer": "ipython3",
   "version": "3.9.13"
  }
 },
 "nbformat": 4,
 "nbformat_minor": 5
}
